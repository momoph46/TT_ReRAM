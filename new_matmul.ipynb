{
  "nbformat": 4,
  "nbformat_minor": 0,
  "metadata": {
    "colab": {
      "provenance": []
    },
    "kernelspec": {
      "name": "python3",
      "display_name": "Python 3"
    },
    "language_info": {
      "name": "python"
    }
  },
  "cells": [
    {
      "cell_type": "code",
      "execution_count": 1,
      "metadata": {
        "id": "aQndp_fDwQ3n"
      },
      "outputs": [],
      "source": [
        "import numpy as np\n",
        "import math"
      ]
    },
    {
      "cell_type": "code",
      "source": [
        "\n",
        "def value2bin(data,res,quan_bit):\n",
        "  binary_string=bin(data)[2:].zfill(quan_bit)\n",
        "  bin_arr = np.array([int(x) for x in binary_string])\n",
        "  temp = bin_arr.reshape(-1,res)\n",
        "  res_list=[]\n",
        "  for i in temp:\n",
        "    res = int(\"\".join(str(x) for x in i), 2)\n",
        "    res_list.append(res)\n",
        "  return res_list\n",
        "\n",
        "def test_compress_tc(tc_arr,ou_row,ou_col,res,quan_bit):\n",
        "  tr_data = tc_arr.transpose()\n",
        "  rram_r=[]\n",
        "  total_rram=[]\n",
        "  for row in tr_data:\n",
        "    rram_r=[]\n",
        "    for e in row:\n",
        "      temp = value2bin(e,res,quan_bit)\n",
        "\n",
        "      rram_r.extend(temp)\n",
        "    total_rram.append(rram_r)\n",
        "\n",
        "  total_tr = np.array(total_rram).transpose()\n",
        "  tmp_a=[]\n",
        "  for t in total_tr:\n",
        "    a = int(\"\".join(str(x) for x in t), 2)\n",
        "    tmp_a.append(a)\n",
        "  #xbar\n",
        "\n",
        "  uni_temp = set(tmp_a)\n",
        "  #print(uni_temp)\n",
        "  uni_temp.discard(0)\n",
        "\n",
        "  a_idx=[]\n",
        "  for i in uni_temp:\n",
        "    l=[]\n",
        "    for idx, v in enumerate(tmp_a):\n",
        "      if(i==v & v!=0):\n",
        "        l.append(idx)\n",
        "    if(l):\n",
        "      a_idx.append(l)\n",
        "\n",
        "  #print(tmp_a)\n",
        "  #print(a_idx)\n",
        "  #print(uni_temp)\n",
        "\n",
        "  return a_idx,uni_temp\n",
        "\n",
        "def test_tc_preprocess(tc_arr,ou_row,ou_col,res,quan_bit,m_rank,n_rank):\n",
        "  #tc_s=tc_arr.shape\n",
        "  tc_m, tc_n = math.ceil(tc_arr.shape[0]/m_rank),math.ceil(tc_arr.shape[1]/n_rank)\n",
        "  r_time = math.ceil(tc_arr.shape[1]/ou_row)\n",
        "  #tc_tr = tc_arr.transpose()\n",
        "  #p = math.ceil(quan_bit/res)\n",
        "  s = 0\n",
        "  r_s = 0\n",
        "  total_pat=[]\n",
        "  total_idx=[]\n",
        "  for mr in range(tc_m):\n",
        "    r_s = 0\n",
        "    ou_pattern0=[]\n",
        "    ou_idx0=[]\n",
        "    for r in range(r_time):\n",
        "      t0=tc_arr[s:s+m_rank,r_s:r_s+ou_row]\n",
        "      t_idx, uni_t=test_compress_tc(t0,ou_row,ou_col,res,quan_bit)\n",
        "      #print(t0)\n",
        "      ou_idx0.append(t_idx)\n",
        "      ou_pattern0.append(list(uni_t))\n",
        "      r_s = r_s + ou_row\n",
        "    s = s + m_rank\n",
        "    total_pat.append(ou_pattern0)\n",
        "    total_idx.append(ou_idx0)\n",
        "  #print('--------')\n",
        "  #print(total_pat)\n",
        "  #print(total_idx)\n",
        "  return total_pat, total_idx"
      ],
      "metadata": {
        "id": "5xeKumC4wn0y"
      },
      "execution_count": 2,
      "outputs": []
    },
    {
      "cell_type": "code",
      "source": [
        "def seperate_posneg(arr):\n",
        "  arr_pos = (arr>0)*arr\n",
        "  arr_neg = (arr<0)*arr*(-1)\n",
        "  return arr_pos, arr_neg\n",
        "\n"
      ],
      "metadata": {
        "id": "iOFtl44ksV7x"
      },
      "execution_count": 3,
      "outputs": []
    },
    {
      "cell_type": "code",
      "source": [
        "res=1\n",
        "quan_bit=8\n",
        "m_rank=2\n",
        "n_rank=3\n",
        "ou_row=3\n",
        "ou_col=3\n",
        "#ipt1 = np.array([1,1,0,1])\n",
        "#w1 = np.array([[120,10,164,8],[103,212,9,18],[112,11,90,181],[100,9,77,15],[102,101,19,11],[10,99,7,15]])\n",
        "w1 = np.array([[1,2,3],[0,0,0],[-1,-2,-3],[4,5,6],[0,0,0],[-4,-5,-6]])\n",
        "pos_w1, neg_w1 = seperate_posneg(w1)\n",
        "\n",
        "print(pos_w1)\n",
        "print(neg_w1)\n",
        "pos_w1_pat, pos_w1_idx=test_tc_preprocess(pos_w1,ou_row,ou_col,res,quan_bit,m_rank,n_rank)\n",
        "\n",
        "neg_w1_pat, neg_w1_idx=test_tc_preprocess(neg_w1,ou_row,ou_col,res,quan_bit,m_rank,n_rank)\n",
        "\n",
        "\n",
        "#w1_pat, w1_idx=test_tc_preprocess(w1,ou_row,ou_col,res,quan_bit,m_rank,n_rank)\n",
        "\n",
        "\n",
        "#print(w1_pat)\n",
        "#print(w1_idx)\n",
        "#print('~~~~~~~')\n",
        "#print(len(w1_pat))\n",
        "#print(len(w1_idx))"
      ],
      "metadata": {
        "colab": {
          "base_uri": "https://localhost:8080/"
        },
        "id": "r1HE35V2xGDb",
        "outputId": "f079743d-3db1-4414-f6e0-dd325ec6e0dd"
      },
      "execution_count": 4,
      "outputs": [
        {
          "output_type": "stream",
          "name": "stdout",
          "text": [
            "[[1 2 3]\n",
            " [0 0 0]\n",
            " [0 0 0]\n",
            " [4 5 6]\n",
            " [0 0 0]\n",
            " [0 0 0]]\n",
            "[[0 0 0]\n",
            " [0 0 0]\n",
            " [1 2 3]\n",
            " [0 0 0]\n",
            " [0 0 0]\n",
            " [4 5 6]]\n"
          ]
        }
      ]
    },
    {
      "cell_type": "code",
      "source": [
        "def do_mac_op(ipt,ou_pattern,ou_idx,m_rank,ou_row,quan_bit):\n",
        "  rank_reg=[]\n",
        "  addpartial_reg=[]\n",
        "  acc_reg=[]\n",
        "\n",
        "  #our_num = 2\n",
        "  #our_idx_list=[]\n",
        "  #for i in range(our_num):\n",
        "  #  our_idx_list.append(i)\n",
        "  #print(ou_pattern)\n",
        "  #print(ou_idx)\n",
        "\n",
        "  for val,idx in zip(ou_pattern,ou_idx):\n",
        "    #print(val,'--',idx)\n",
        "    rank_reg=[]\n",
        "    for j in range(m_rank): #2之後要參數化\n",
        "      rank_reg.append(0)\n",
        "    temp = value2bin(val,1,ou_row) #2之後要參數化\n",
        "    #print('--',i_v)\n",
        "    rt = np.matmul(temp,ipt)\n",
        "    #print(rt)\n",
        "    #print('idx, ',idx)\n",
        "    for r0 in idx:\n",
        "      r_i = math.ceil((r0+1)/quan_bit)-1 #4之後要參數化\n",
        "      r_s = (quan_bit-1)-math.ceil(r0%quan_bit) #4之後要參數化\n",
        "      rank_reg[r_i]=rank_reg[r_i] + rt*(2**r_s)\n",
        "      #print(r0,'..',r_i,'**',r_s)\n",
        "    #print(rank_reg)\n",
        "    addpartial_reg.append(rank_reg)\n",
        "  #print(np.sum(np.array(addpartial_reg), axis = 0))\n",
        "  acc_reg.append(np.sum(np.array(addpartial_reg), axis = 0))\n",
        "\n",
        "\n",
        "  return np.sum(np.array(acc_reg), axis = 0)\n",
        "\n",
        "#def vmm_op2(input_data,tc_pat,tc_idx,md,m_rank,nd,n_rank,ou_row,ou_col,quan_bit):\n",
        "def vmm_op2(input_data,tc_pat,tc_idx,m_rank,n_rank,ou_row,ou_col,quan_bit):\n",
        "\n",
        "  rank_reg=[]\n",
        "  ans=[]\n",
        "\n",
        "  #ipt0 = np.array([1,1,0,1])\n",
        "\n",
        "  #for m_i in range(0,4,2): #(0,m(d)*r(d-1),r(d-1))\n",
        "  #for m_i in range(0,4,4): #(0,m(d)*r(d-1),r(d-1))\n",
        "  for pat_r,idx_r in zip(tc_pat,tc_idx): #(0,m(d)*r(d-1),r(d-1))\n",
        "    rank_reg=[]\n",
        "    for j in range(m_rank): #2之後要參數化 r(d-1)\n",
        "      rank_reg.append(0)\n",
        "    #for input_idx in range(0,4,2): #(0,input pattern's length/n(d)*r(d),OU_row)\n",
        "    pat_idx=0\n",
        "    #print('pat_r',pat_r)\n",
        "    #print('idx_r',idx_r)\n",
        "    #print(input_data)\n",
        "    #print(ou_row)\n",
        "    for input_idx in range(0,len(input_data),ou_row): #(0,input pattern's length/n(d)*r(d),OU_row)\n",
        "      #ou_pattern2, ou_idx2=tc_preprocess(w1[m_i:m_i+2,input_idx:input_idx+2],2,2,1,4,2,2)\n",
        "      #ou_pattern2, ou_idx2=tc_preprocess(tc_data[m_i:m_i+m_rank,input_idx:input_idx+ou_row],2,2,1,4,4,2)\n",
        "      #t_idx, uni_t=compress_tc(tc_data[m_i:m_i+m_rank,input_idx:input_idx+ou_row],ou_row,ou_col,1,4)\n",
        "      # above 4:r(d-1) 2:OU_row\n",
        "      #pat_list = list(ou_pattern2[0])\n",
        "      #pat_list = list(uni_t)\n",
        "      #print('***',pat_list)\n",
        "      #print(t_idx)\n",
        "      #print('***',ou_idx2)\n",
        "      #ou_col_num = math.ceil(len(pat_list)/ou_col)\n",
        "      input_t0 = input_data[input_idx:input_idx+ou_row]\n",
        "      pat_list=pat_r[pat_idx]\n",
        "      t_idx = idx_r[pat_idx]\n",
        "      #print('pat_list',pat_list)\n",
        "      #print('t_idx',t_idx)\n",
        "      # above 2:OU_row\n",
        "      #partial_ans = do_mac([input_t0],[pat_list[start_ou:start_ou+ou_col]],[ou_idx1[k][start_ou:start_ou+ou_col]],2,2,4)\n",
        "      start_ou=0\n",
        "      for i in range(0,len(pat_list),ou_col): #(0,OU內的Pattern個數,OU_col)\n",
        "        #print('//',pat_list[i:i+2])\n",
        "        #print('++',ou_idx2[0][i:i+2])\n",
        "\n",
        "        #partial_ans = do_mac([input_t0],[pat_list[i:i+2]],[ou_idx2[0][i:i+2]],2,2,4)\n",
        "        #partial_ans = do_mac([input_t0],[pat_list[i:i+2]],[ou_idx2[0][i:i+2]],4,2,4)\n",
        "        #partial_ans = do_mac_op(input_t0,pat_list[i:i+ou_col],ou_idx2[0][i:i+ou_col],m_rank,2,4)\n",
        "        partial_ans = do_mac_op(input_t0,pat_list[i:i+ou_col],t_idx[i:i+ou_col],m_rank,ou_row,quan_bit)\n",
        "        # above 2 OU_col\n",
        "        #print('partial ans',partial_ans)\n",
        "        rank_reg = rank_reg + partial_ans\n",
        "        #start_ou=start_ou+ou_col\n",
        "      pat_idx=pat_idx+1\n",
        "    ans.append(rank_reg)\n",
        "  #print(ans)\n",
        "  return ans\n",
        "\n",
        "\n",
        "def input_compress(input_data,res,quan_bit):\n",
        "  tr_data = input_data.transpose()\n",
        "  rram_r=[]\n",
        "  total_rram=[]\n",
        "  #print(tr_data)\n",
        "  for row in tr_data:\n",
        "    rram_r=[]\n",
        "    for e in row:\n",
        "      temp = value2bin(e,res,quan_bit)\n",
        "\n",
        "      #print(temp)\n",
        "      rram_r.extend(temp)\n",
        "    total_rram.append(rram_r)\n",
        "    total_tr = np.array(total_rram).transpose()\n",
        "  tmp_a=[]\n",
        "  for t in total_tr:\n",
        "    a = int(\"\".join(str(x) for x in t), 2)\n",
        "    tmp_a.append(a)\n",
        "  #xbar\n",
        "\n",
        "  uni_temp = set(tmp_a)\n",
        "  #print(uni_temp)\n",
        "  uni_temp.discard(0)\n",
        "\n",
        "  a_idx=[]\n",
        "  for i in uni_temp:\n",
        "    l=[]\n",
        "    for idx, v in enumerate(tmp_a):\n",
        "      if(i==v & v!=0):\n",
        "        l.append(quan_bit-1-idx)\n",
        "    if(l):\n",
        "      a_idx.append(l)\n",
        "\n",
        "  #print(tmp_a)\n",
        "  #print(a_idx)\n",
        "  #print(uni_temp)\n",
        "  return list(uni_temp), a_idx"
      ],
      "metadata": {
        "id": "7zi00SXM2ZO_"
      },
      "execution_count": 5,
      "outputs": []
    },
    {
      "cell_type": "code",
      "source": [
        "'''\n",
        "m_r_cnt=0\n",
        "cycle=0\n",
        "input_idx_s=0\n",
        "rank_reg0=[]\n",
        "test_input0=[1,1,0,1]\n",
        "pat_idx=0\n",
        "pat_list_i=0\n",
        "ans0=[]\n",
        "for j in range(m_rank): #2之後要參數化 r(d-1)\n",
        "  rank_reg0.append(0)\n",
        "while(1):\n",
        "  cycle = cycle + 1\n",
        "  pat_r = w1_pat[m_r_cnt]\n",
        "  idx_r = w1_idx[m_r_cnt]\n",
        "\n",
        "\n",
        "  input_t0 = test_input0[input_idx_s:input_idx_s+ou_row]\n",
        "  print(input_t0)\n",
        "  print(pat_idx)\n",
        "  print(pat_r[pat_idx])\n",
        "  pat_list=pat_r[pat_idx]\n",
        "  t_idx = idx_r[pat_idx]\n",
        "\n",
        "  partial_ans = do_mac_op(input_t0,pat_list[pat_list_i:pat_list_i+ou_col],t_idx[pat_list_i:pat_list_i+ou_col],m_rank,ou_row,quan_bit)\n",
        "  # above 2 OU_col\n",
        "  #print('partial ans',partial_ans)\n",
        "  rank_reg0 = rank_reg0 + partial_ans\n",
        "  if(pat_list_i >= len(pat_list)-1):\n",
        "    pat_list_i=0\n",
        "    pat_idx = pat_idx + 1\n",
        "    if(input_idx_s >= len(test_input0)-1):\n",
        "      input_idx_s = 0\n",
        "      pat_idx = 0\n",
        "      ans0.append(rank_reg0)\n",
        "      rank_reg0=[]\n",
        "      for j in range(m_rank):\n",
        "        rank_reg0.append(0)\n",
        "      if(m_r_cnt==len(w1_pat)-1):\n",
        "        break\n",
        "      else:\n",
        "        m_r_cnt = m_r_cnt + 1\n",
        "    else:\n",
        "      input_idx_s = input_idx_s + ou_row\n",
        "\n",
        "  else:\n",
        "    pat_list_i = pat_list_i + ou_col\n",
        "\n",
        "\n",
        "print(ans0)\n",
        "\n",
        "'''\n",
        "#---------------------------\n",
        "'''\n",
        "def vmm_op2(input_data,tc_pat,tc_idx,md,m_rank,nd,n_rank,ou_row,ou_col,quan_bit):\n",
        "  rank_reg=[]\n",
        "  ans=[]\n",
        "  for pat_r,idx_r in zip(tc_pat,tc_idx): #(0,m(d)*r(d-1),r(d-1))\n",
        "    rank_reg=[]\n",
        "    for j in range(m_rank): #2之後要參數化 r(d-1)\n",
        "      rank_reg.append(0)\n",
        "    pat_idx=0\n",
        "\n",
        "    for input_idx in range(0,len(input_data),ou_row): #(0,input pattern's length/n(d)*r(d),OU_row)\n",
        "\n",
        "      input_t0 = input_data[input_idx:input_idx+ou_row]\n",
        "      pat_list=pat_r[pat_idx]\n",
        "      t_idx = idx_r[pat_idx]\n",
        "\n",
        "      for i in range(0,len(pat_list),ou_col):\n",
        "\n",
        "\n",
        "        partial_ans = do_mac_op(input_t0,pat_list[i:i+ou_col],t_idx[i:i+ou_col],m_rank,ou_row,quan_bit)\n",
        "\n",
        "        rank_reg = rank_reg + partial_ans\n",
        "\n",
        "      pat_idx=pat_idx+1\n",
        "    ans.append(rank_reg)\n",
        "\n",
        "  return ans\n",
        "'''\n"
      ],
      "metadata": {
        "id": "yZiysPujbBtp",
        "colab": {
          "base_uri": "https://localhost:8080/",
          "height": 122
        },
        "outputId": "9bdde5e1-507d-49da-e68f-eb645104b64c"
      },
      "execution_count": 6,
      "outputs": [
        {
          "output_type": "execute_result",
          "data": {
            "text/plain": [
              "\"\\ndef vmm_op2(input_data,tc_pat,tc_idx,md,m_rank,nd,n_rank,ou_row,ou_col,quan_bit):\\n  rank_reg=[]\\n  ans=[]\\n  for pat_r,idx_r in zip(tc_pat,tc_idx): #(0,m(d)*r(d-1),r(d-1))\\n    rank_reg=[]\\n    for j in range(m_rank): #2之後要參數化 r(d-1)\\n      rank_reg.append(0)\\n    pat_idx=0\\n\\n    for input_idx in range(0,len(input_data),ou_row): #(0,input pattern's length/n(d)*r(d),OU_row)\\n\\n      input_t0 = input_data[input_idx:input_idx+ou_row]\\n      pat_list=pat_r[pat_idx]\\n      t_idx = idx_r[pat_idx]\\n\\n      for i in range(0,len(pat_list),ou_col):\\n\\n\\n        partial_ans = do_mac_op(input_t0,pat_list[i:i+ou_col],t_idx[i:i+ou_col],m_rank,ou_row,quan_bit)\\n\\n        rank_reg = rank_reg + partial_ans\\n\\n      pat_idx=pat_idx+1\\n    ans.append(rank_reg)\\n\\n  return ans\\n\""
            ],
            "application/vnd.google.colaboratory.intrinsic+json": {
              "type": "string"
            }
          },
          "metadata": {},
          "execution_count": 6
        }
      ]
    },
    {
      "cell_type": "code",
      "source": [
        "#inp_2d = np.array([[16,19,108],[109,150,109],[161,20,110],[106,8,111]])\n",
        "inp_2d = np.array([[1,2,3,4,5,6],[7,8,9,10,11,12],[13,14,15,16,17,18]])\n",
        "inp_2d_tr = inp_2d.transpose()\n",
        "\n",
        "#res_list=[]\n",
        "val=[]\n",
        "\n",
        "for input_val0 in inp_2d_tr:\n",
        "  #input_pattern, input_idx=input_compress(np.array([[8,7,6,5]]))\n",
        "  #input_pattern, input_idx=input_compress(np.array([input_val0]),res,quan_bit)\n",
        "  input_pattern, input_idx=input_compress(np.array([input_val0]),res,quan_bit)\n",
        "  #print(input_pattern)\n",
        "  #print(input_idx)\n",
        "  res_list0=[]\n",
        "  res_list1=[]\n",
        "  #res=[0,0,0,0]\n",
        "  for l in range(len(w1)):\n",
        "    res_list0.append(0)\n",
        "    res_list1.append(0)\n",
        "\n",
        "  for ipt_val, ipt_idx in zip(input_pattern, input_idx):\n",
        "    ipt0=value2bin(ipt_val,res,w1.shape[1])\n",
        "    #print(ipt0)\n",
        "    test_a0 = vmm_op2(ipt0,pos_w1_pat,pos_w1_idx,m_rank,n_rank,ou_row,ou_col,quan_bit)\n",
        "    test_a1 = vmm_op2(ipt0,neg_w1_pat,neg_w1_idx,m_rank,n_rank,ou_row,ou_col,quan_bit)\n",
        "\n",
        "    #print('test_a',test_a)\n",
        "    temp_a0 = np.array(test_a0).reshape(1,-1)\n",
        "    temp_a1 = np.array(test_a1).reshape(1,-1)\n",
        "\n",
        "    for i_idx in ipt_idx:\n",
        "      res_list0 = res_list0 + temp_a0[0]*(2**i_idx)\n",
        "      res_list1 = res_list1 + temp_a1[0]*(2**i_idx)\n",
        "\n",
        "  print('result0',res_list0)\n",
        "  print('result1',res_list1*-1)\n",
        "  val.append(res_list0+(-1)*res_list1)\n",
        "\n",
        "#print(np.array(val).transpose())\n",
        "\n"
      ],
      "metadata": {
        "colab": {
          "base_uri": "https://localhost:8080/"
        },
        "id": "QpX3o2KL2SC2",
        "outputId": "37f62e6d-7836-4656-ff19-5997a78ba5ca"
      },
      "execution_count": 7,
      "outputs": [
        {
          "output_type": "stream",
          "name": "stdout",
          "text": [
            "result0 [ 54   0   0 117   0   0]\n",
            "result1 [   0    0  -54    0    0 -117]\n",
            "result0 [ 60   0   0 132   0   0]\n",
            "result1 [   0    0  -60    0    0 -132]\n",
            "result0 [ 66   0   0 147   0   0]\n",
            "result1 [   0    0  -66    0    0 -147]\n",
            "result0 [ 72   0   0 162   0   0]\n",
            "result1 [   0    0  -72    0    0 -162]\n",
            "result0 [ 78   0   0 177   0   0]\n",
            "result1 [   0    0  -78    0    0 -177]\n",
            "result0 [ 84   0   0 192   0   0]\n",
            "result1 [   0    0  -84    0    0 -192]\n"
          ]
        }
      ]
    },
    {
      "cell_type": "code",
      "source": [
        "#print(val)\n",
        "\n",
        "val3to2 = np.array(val).transpose()\n",
        "print(val3to2)"
      ],
      "metadata": {
        "colab": {
          "base_uri": "https://localhost:8080/"
        },
        "id": "49k3H0-crXYT",
        "outputId": "dea05ceb-df04-4b5e-a4df-cb6290fcd6b7"
      },
      "execution_count": 8,
      "outputs": [
        {
          "output_type": "stream",
          "name": "stdout",
          "text": [
            "[[  54   60   66   72   78   84]\n",
            " [   0    0    0    0    0    0]\n",
            " [ -54  -60  -66  -72  -78  -84]\n",
            " [ 117  132  147  162  177  192]\n",
            " [   0    0    0    0    0    0]\n",
            " [-117 -132 -147 -162 -177 -192]]\n"
          ]
        }
      ]
    },
    {
      "cell_type": "code",
      "source": [
        "def transform(arr,m_list,n_list,h,r):\n",
        "  arr_tr = np.transpose(arr)\n",
        "  arr_re = arr_tr.reshape(n_list[h-1],-1)\n",
        "  new_arr_width = len(arr_re[0])\n",
        "  new_arr=[]\n",
        "  p = new_arr_width\n",
        "  for i in range(0,p,r):\n",
        "    temp = arr_re[:,i:i+r]\n",
        "    new_arr.append(temp.reshape(-1))\n",
        "\n",
        "  return np.transpose(new_arr)\n",
        "\n",
        "m_list=[2,1,2]\n",
        "n_list=[2,3,3]\n",
        "r = 3\n",
        "#v1_out = [[5,6,8,9],[0,0,1,0],[1,2,3,4]]\n",
        "v2_input = transform(val3to2,m_list,n_list,2,r)\n",
        "print(v2_input)"
      ],
      "metadata": {
        "id": "qJuJkzvOVDDv",
        "colab": {
          "base_uri": "https://localhost:8080/"
        },
        "outputId": "3019bf83-c93a-4269-f132-5ba6bedd6283"
      },
      "execution_count": 9,
      "outputs": [
        {
          "output_type": "stream",
          "name": "stdout",
          "text": [
            "[[  54  117   60  132]\n",
            " [   0    0    0    0]\n",
            " [ -54 -117  -60 -132]\n",
            " [  66  147   72  162]\n",
            " [   0    0    0    0]\n",
            " [ -66 -147  -72 -162]\n",
            " [  78  177   84  192]\n",
            " [   0    0    0    0]\n",
            " [ -78 -177  -84 -192]]\n"
          ]
        }
      ]
    },
    {
      "cell_type": "code",
      "source": [
        "tc2 = np.array([[1,2,3,4,5,6,7,8,9],[0,1,-4,7,-1,0,-2,-1,-3],[-1,-2,0,-2,0,0,0,2,0]])\n",
        "print(tc2)\n",
        "\n",
        "pos_tc2, neg_tc2 = seperate_posneg(tc2)\n",
        "\n",
        "print(pos_tc2)\n",
        "print(neg_tc2)\n",
        "pos_tc2_pat, pos_tc2_idx=test_tc_preprocess(pos_tc2,ou_row,ou_col,res,quan_bit,1,3)\n",
        "\n",
        "neg_tc2_pat, neg_tc2_idx=test_tc_preprocess(neg_tc2,ou_row,ou_col,res,quan_bit,1,3)"
      ],
      "metadata": {
        "id": "gg_lmwoe-1HO",
        "colab": {
          "base_uri": "https://localhost:8080/"
        },
        "outputId": "ea0515fa-cf63-4f23-e397-4c205c76cd15"
      },
      "execution_count": 10,
      "outputs": [
        {
          "output_type": "stream",
          "name": "stdout",
          "text": [
            "[[ 1  2  3  4  5  6  7  8  9]\n",
            " [ 0  1 -4  7 -1  0 -2 -1 -3]\n",
            " [-1 -2  0 -2  0  0  0  2  0]]\n",
            "[[1 2 3 4 5 6 7 8 9]\n",
            " [0 1 0 7 0 0 0 0 0]\n",
            " [0 0 0 0 0 0 0 2 0]]\n",
            "[[0 0 0 0 0 0 0 0 0]\n",
            " [0 0 4 0 1 0 2 1 3]\n",
            " [1 2 0 2 0 0 0 0 0]]\n"
          ]
        }
      ]
    },
    {
      "cell_type": "code",
      "source": [
        "v2_tr = v2_input.transpose()\n",
        "\n",
        "pos_v2_tr, neg_v2_tr = seperate_posneg(v2_tr)\n",
        "\n",
        "print(pos_v2_tr)\n",
        "print(neg_v2_tr)\n",
        "\n",
        "#res_list=[]\n",
        "s2_val=[]\n",
        "\n",
        "for input_val0 in pos_v2_tr:\n",
        "  #input_pattern, input_idx=input_compress(np.array([[8,7,6,5]]))\n",
        "  #input_pattern, input_idx=input_compress(np.array([input_val0]),res,quan_bit)\n",
        "  input_pattern, input_idx=input_compress(np.array([input_val0]),res,quan_bit)\n",
        "  #print(input_pattern)\n",
        "  #print(input_idx)\n",
        "  res_list0=[]\n",
        "  res_list1=[]\n",
        "  #res=[0,0,0,0]\n",
        "  for l in range(len(tc2)):\n",
        "    res_list0.append(0)\n",
        "    res_list1.append(0)\n",
        "\n",
        "  for ipt_val, ipt_idx in zip(input_pattern, input_idx):\n",
        "    ipt0=value2bin(ipt_val,res,tc2.shape[1])#...w1/tc2\n",
        "    #print(ipt0)\n",
        "    test_a0 = vmm_op2(ipt0,pos_tc2_pat,pos_tc2_idx,1,3,ou_row,ou_col,quan_bit)\n",
        "    test_a1 = vmm_op2(ipt0,neg_tc2_pat,neg_tc2_idx,1,3,ou_row,ou_col,quan_bit)\n",
        "\n",
        "    #print('test_a',test_a)\n",
        "    temp_a0 = np.array(test_a0).reshape(1,-1)\n",
        "    temp_a1 = np.array(test_a1).reshape(1,-1)\n",
        "\n",
        "    for i_idx in ipt_idx:\n",
        "      res_list0 = res_list0 + temp_a0[0]*(2**i_idx)\n",
        "      res_list1 = res_list1 + temp_a1[0]*(2**i_idx)\n",
        "\n",
        "  print('result0',res_list0)\n",
        "  print('result1',res_list1*-1)\n",
        "  s2_val.append(res_list0+(-1)*res_list1)\n",
        "\n",
        "#print(np.array(s2_val).transpose())\n",
        "pos_val3 = np.array(s2_val).transpose()\n",
        "print(pos_val3)"
      ],
      "metadata": {
        "id": "c6fqdIMQ3QEx",
        "colab": {
          "base_uri": "https://localhost:8080/"
        },
        "outputId": "c1ed588d-1b9f-41a7-e704-b214201cacd0"
      },
      "execution_count": 11,
      "outputs": [
        {
          "output_type": "stream",
          "name": "stdout",
          "text": [
            "[[ 54   0   0  66   0   0  78   0   0]\n",
            " [117   0   0 147   0   0 177   0   0]\n",
            " [ 60   0   0  72   0   0  84   0   0]\n",
            " [132   0   0 162   0   0 192   0   0]]\n",
            "[[  0   0  54   0   0  66   0   0  78]\n",
            " [  0   0 117   0   0 147   0   0 177]\n",
            " [  0   0  60   0   0  72   0   0  84]\n",
            " [  0   0 132   0   0 162   0   0 192]]\n",
            "result0 [864 462   0]\n",
            "result1 [   0 -156 -186]\n",
            "result0 [1944 1029    0]\n",
            "result1 [   0 -354 -411]\n",
            "result0 [936 504   0]\n",
            "result1 [   0 -168 -204]\n",
            "result0 [2124 1134    0]\n",
            "result1 [   0 -384 -456]\n",
            "[[ 864 1944  936 2124]\n",
            " [ 306  675  336  750]\n",
            " [-186 -411 -204 -456]]\n"
          ]
        }
      ]
    },
    {
      "cell_type": "code",
      "source": [
        "v2_tr = v2_input.transpose()\n",
        "\n",
        "pos_v2_tr, neg_v2_tr = seperate_posneg(v2_tr)\n",
        "\n",
        "print(pos_v2_tr)\n",
        "print(neg_v2_tr)\n",
        "\n",
        "#res_list=[]\n",
        "s2_val=[]\n",
        "\n",
        "for input_val0 in neg_v2_tr:\n",
        "  #input_pattern, input_idx=input_compress(np.array([[8,7,6,5]]))\n",
        "  #input_pattern, input_idx=input_compress(np.array([input_val0]),res,quan_bit)\n",
        "  input_pattern, input_idx=input_compress(np.array([input_val0]),res,quan_bit)\n",
        "  #print(input_pattern)\n",
        "  #print(input_idx)\n",
        "  res_list0=[]\n",
        "  res_list1=[]\n",
        "  #res=[0,0,0,0]\n",
        "  for l in range(len(tc2)):\n",
        "    res_list0.append(0)\n",
        "    res_list1.append(0)\n",
        "\n",
        "  for ipt_val, ipt_idx in zip(input_pattern, input_idx):\n",
        "    ipt0=value2bin(ipt_val,res,tc2.shape[1])#...w1/tc2\n",
        "    #print(ipt0)\n",
        "    test_a0 = vmm_op2(ipt0,pos_tc2_pat,pos_tc2_idx,1,3,ou_row,ou_col,quan_bit)\n",
        "    test_a1 = vmm_op2(ipt0,neg_tc2_pat,neg_tc2_idx,1,3,ou_row,ou_col,quan_bit)\n",
        "\n",
        "    #print('test_a',test_a)\n",
        "    temp_a0 = np.array(test_a0).reshape(1,-1)\n",
        "    temp_a1 = np.array(test_a1).reshape(1,-1)\n",
        "\n",
        "    for i_idx in ipt_idx:\n",
        "      res_list0 = res_list0 + temp_a0[0]*(2**i_idx)\n",
        "      res_list1 = res_list1 + temp_a1[0]*(2**i_idx)\n",
        "\n",
        "  print('result0',res_list0)\n",
        "  print('result1',res_list1*-1)\n",
        "  s2_val.append(res_list0+(-1)*res_list1)\n",
        "\n",
        "#print(np.array(s2_val).transpose())\n",
        "neg_val3 = np.array(s2_val).transpose()\n",
        "print(neg_val3)"
      ],
      "metadata": {
        "colab": {
          "base_uri": "https://localhost:8080/"
        },
        "id": "vkqXKh6t8Lvh",
        "outputId": "0444af39-e085-4418-ba12-2729506d83d5"
      },
      "execution_count": 12,
      "outputs": [
        {
          "output_type": "stream",
          "name": "stdout",
          "text": [
            "[[ 54   0   0  66   0   0  78   0   0]\n",
            " [117   0   0 147   0   0 177   0   0]\n",
            " [ 60   0   0  72   0   0  84   0   0]\n",
            " [132   0   0 162   0   0 192   0   0]]\n",
            "[[  0   0  54   0   0  66   0   0  78]\n",
            " [  0   0 117   0   0 147   0   0 177]\n",
            " [  0   0  60   0   0  72   0   0  84]\n",
            " [  0   0 132   0   0 162   0   0 192]]\n",
            "result0 [1260    0    0]\n",
            "result1 [   0 -450    0]\n",
            "result0 [2826    0    0]\n",
            "result1 [   0 -999    0]\n",
            "result0 [1368    0    0]\n",
            "result1 [   0 -492    0]\n",
            "result0 [3096    0    0]\n",
            "result1 [    0 -1104     0]\n",
            "[[ 1260  2826  1368  3096]\n",
            " [ -450  -999  -492 -1104]\n",
            " [    0     0     0     0]]\n"
          ]
        }
      ]
    },
    {
      "cell_type": "code",
      "source": [
        "for input_val0 in neg_v2_tr:\n",
        "  print(input_val0)"
      ],
      "metadata": {
        "colab": {
          "base_uri": "https://localhost:8080/"
        },
        "id": "jluPYW_baXPM",
        "outputId": "28dd1854-b32f-4dad-c9aa-1f72d1db172e"
      },
      "execution_count": 13,
      "outputs": [
        {
          "output_type": "stream",
          "name": "stdout",
          "text": [
            "[ 0  0 54  0  0 66  0  0 78]\n",
            "[  0   0 117   0   0 147   0   0 177]\n",
            "[ 0  0 60  0  0 72  0  0 84]\n",
            "[  0   0 132   0   0 162   0   0 192]\n"
          ]
        }
      ]
    },
    {
      "cell_type": "code",
      "source": [
        "def get_quanbis(arr):\n",
        "  bits=0\n",
        "  #print('ll',arr)\n",
        "  for l0 in arr:\n",
        "    for l1 in l0:\n",
        "      #print(l1)\n",
        "      t = int(l1).bit_length()\n",
        "      if(t>bits):\n",
        "        bits = t\n",
        "  return bits"
      ],
      "metadata": {
        "id": "c9fag_aKWOFo"
      },
      "execution_count": 14,
      "outputs": []
    },
    {
      "cell_type": "code",
      "source": [
        "mat_v2to1=pos_val3-neg_val3\n",
        "print(mat_v2to1)\n",
        "mat1 = transform(mat_v2to1,m_list,n_list,1,r)\n",
        "print(mat1)\n",
        "\n",
        "pos_mat1, neg_mat1 = seperate_posneg(mat1)\n",
        "\n",
        "print(pos_mat1)\n",
        "print(neg_mat1)\n",
        "\n",
        "pos_mat1_bits = get_quanbis(pos_mat1)\n",
        "neg_mat1_bits = get_quanbis(neg_mat1)\n",
        "\n",
        "print(pos_mat1_bits)\n",
        "print(neg_mat1_bits)\n",
        "\n",
        "#num=1854\n",
        "#print(num.bit_length())"
      ],
      "metadata": {
        "colab": {
          "base_uri": "https://localhost:8080/"
        },
        "id": "zNWCBQbU9kPE",
        "outputId": "224ba8bc-3d99-47e1-a686-b3f40cbff90f"
      },
      "execution_count": 15,
      "outputs": [
        {
          "output_type": "stream",
          "name": "stdout",
          "text": [
            "[[-396 -882 -432 -972]\n",
            " [ 756 1674  828 1854]\n",
            " [-186 -411 -204 -456]]\n",
            "[[-396 -882]\n",
            " [ 756 1674]\n",
            " [-186 -411]\n",
            " [-432 -972]\n",
            " [ 828 1854]\n",
            " [-204 -456]]\n",
            "[[   0    0]\n",
            " [ 756 1674]\n",
            " [   0    0]\n",
            " [   0    0]\n",
            " [ 828 1854]\n",
            " [   0    0]]\n",
            "[[396 882]\n",
            " [  0   0]\n",
            " [186 411]\n",
            " [432 972]\n",
            " [  0   0]\n",
            " [204 456]]\n",
            "11\n",
            "10\n"
          ]
        }
      ]
    },
    {
      "cell_type": "code",
      "source": [
        "def get_vecquanbis(arr):\n",
        "  bits=0\n",
        "  #print('ll',arr)\n",
        "  for l0 in arr:\n",
        "    t = int(l0).bit_length()\n",
        "    if(t>bits):\n",
        "      bits = t\n",
        "  return bits\n",
        "\n"
      ],
      "metadata": {
        "id": "hketctbe0Pls"
      },
      "execution_count": 16,
      "outputs": []
    },
    {
      "cell_type": "code",
      "source": [
        "tc1 = np.array([[2,1,-1,3,4,-3],[-2,-1,-1,0,0,-1]])\n",
        "print(tc1)\n",
        "\n",
        "pos_tc1, neg_tc1 = seperate_posneg(tc1)\n",
        "\n",
        "print(pos_tc1)\n",
        "print(neg_tc1)\n",
        "pos_tc1_pat, pos_tc1_idx=test_tc_preprocess(pos_tc1,ou_row,ou_col,res,quan_bit,2,2)\n",
        "\n",
        "neg_tc1_pat, neg_tc1_idx=test_tc_preprocess(neg_tc1,ou_row,ou_col,res,quan_bit,2,2)\n",
        "\n"
      ],
      "metadata": {
        "colab": {
          "base_uri": "https://localhost:8080/"
        },
        "id": "WW2SxtO-tM-k",
        "outputId": "f3210c18-678b-47d3-9eb4-30cfec88fd2a"
      },
      "execution_count": 17,
      "outputs": [
        {
          "output_type": "stream",
          "name": "stdout",
          "text": [
            "[[ 2  1 -1  3  4 -3]\n",
            " [-2 -1 -1  0  0 -1]]\n",
            "[[2 1 0 3 4 0]\n",
            " [0 0 0 0 0 0]]\n",
            "[[0 0 1 0 0 3]\n",
            " [2 1 1 0 0 1]]\n"
          ]
        }
      ]
    },
    {
      "cell_type": "code",
      "source": [
        "#v2_tr = v2_input.transpose()\n",
        "\n",
        "#pos_v2_tr, neg_v2_tr = seperate_posneg(v2_tr)\n",
        "\n",
        "#print(pos_v2_tr)\n",
        "#print(neg_v2_tr)\n",
        "\n",
        "#pos_mat1\n",
        "pos_v3_tr = pos_mat1.transpose()\n",
        "#res_list=[]\n",
        "s1_val=[]\n",
        "\n",
        "for input_val0 in pos_v3_tr:\n",
        "  #input_pattern, input_idx=input_compress(np.array([[8,7,6,5]]))\n",
        "  #input_pattern, input_idx=input_compress(np.array([input_val0]),res,quan_bit)\n",
        "\n",
        "  vec_bits = get_vecquanbis(input_val0)\n",
        "\n",
        "  input_pattern, input_idx=input_compress(np.array([input_val0]),res,vec_bits)\n",
        "  #print(input_pattern)\n",
        "  #print(input_idx)\n",
        "  res_list0=[]\n",
        "  res_list1=[]\n",
        "  #res=[0,0,0,0]\n",
        "  for l in range(len(tc1)):\n",
        "    res_list0.append(0)\n",
        "    res_list1.append(0)\n",
        "\n",
        "  for ipt_val, ipt_idx in zip(input_pattern, input_idx):\n",
        "    ipt0=value2bin(ipt_val,res,tc1.shape[1])#...w1/tc2\n",
        "    #print(ipt0)\n",
        "    test_a0 = vmm_op2(ipt0,pos_tc1_pat,pos_tc1_idx,2,2,ou_row,ou_col,quan_bit)\n",
        "    test_a1 = vmm_op2(ipt0,neg_tc1_pat,neg_tc1_idx,2,2,ou_row,ou_col,quan_bit)\n",
        "\n",
        "    #print('test_a',test_a)\n",
        "    temp_a0 = np.array(test_a0).reshape(1,-1)\n",
        "    temp_a1 = np.array(test_a1).reshape(1,-1)\n",
        "\n",
        "    for i_idx in ipt_idx:\n",
        "      res_list0 = res_list0 + temp_a0[0]*(2**i_idx)\n",
        "      res_list1 = res_list1 + temp_a1[0]*(2**i_idx)\n",
        "\n",
        "  print('result0',res_list0)\n",
        "  print('result1',res_list1*-1)\n",
        "  s1_val.append(res_list0+(-1)*res_list1)\n",
        "\n",
        "#print(np.array(s2_val).transpose())\n",
        "pos_val0 = np.array(s1_val).transpose()\n",
        "print(pos_val0)"
      ],
      "metadata": {
        "colab": {
          "base_uri": "https://localhost:8080/"
        },
        "id": "guwD1B2ghxbS",
        "outputId": "525b68bf-e898-443e-c24c-1ffeb978cbb7"
      },
      "execution_count": 18,
      "outputs": [
        {
          "output_type": "stream",
          "name": "stdout",
          "text": [
            "result0 [4068    0]\n",
            "result1 [   0 -756]\n",
            "result0 [9090    0]\n",
            "result1 [    0 -1674]\n",
            "[[ 4068  9090]\n",
            " [ -756 -1674]]\n"
          ]
        }
      ]
    },
    {
      "cell_type": "code",
      "source": [
        "neg_v3_tr = neg_mat1.transpose()\n",
        "#res_list=[]\n",
        "s1_val=[]\n",
        "\n",
        "for input_val0 in neg_v3_tr:\n",
        "  #input_pattern, input_idx=input_compress(np.array([[8,7,6,5]]))\n",
        "  #input_pattern, input_idx=input_compress(np.array([input_val0]),res,quan_bit)\n",
        "\n",
        "  vec_bits = get_vecquanbis(input_val0)\n",
        "\n",
        "  input_pattern, input_idx=input_compress(np.array([input_val0]),res,vec_bits)\n",
        "  #print(input_pattern)\n",
        "  #print(input_idx)\n",
        "  res_list0=[]\n",
        "  res_list1=[]\n",
        "  #res=[0,0,0,0]\n",
        "  for l in range(len(tc1)):\n",
        "    res_list0.append(0)\n",
        "    res_list1.append(0)\n",
        "\n",
        "  for ipt_val, ipt_idx in zip(input_pattern, input_idx):\n",
        "    ipt0=value2bin(ipt_val,res,tc1.shape[1])#...w1/tc2\n",
        "    #print(ipt0)\n",
        "    test_a0 = vmm_op2(ipt0,pos_tc1_pat,pos_tc1_idx,2,2,ou_row,ou_col,quan_bit)\n",
        "    test_a1 = vmm_op2(ipt0,neg_tc1_pat,neg_tc1_idx,2,2,ou_row,ou_col,quan_bit)\n",
        "\n",
        "    #print('test_a',test_a)\n",
        "    temp_a0 = np.array(test_a0).reshape(1,-1)\n",
        "    temp_a1 = np.array(test_a1).reshape(1,-1)\n",
        "\n",
        "    for i_idx in ipt_idx:\n",
        "      res_list0 = res_list0 + temp_a0[0]*(2**i_idx)\n",
        "      res_list1 = res_list1 + temp_a1[0]*(2**i_idx)\n",
        "\n",
        "  print('result0',res_list0)\n",
        "  print('result1',res_list1*-1)\n",
        "  s1_val.append(res_list0+(-1)*res_list1)\n",
        "\n",
        "#print(np.array(s2_val).transpose())\n",
        "neg_val0 = np.array(s1_val).transpose()\n",
        "print(neg_val0)"
      ],
      "metadata": {
        "colab": {
          "base_uri": "https://localhost:8080/"
        },
        "id": "U7DG6Vnx3RYI",
        "outputId": "200047db-e821-4ad9-f9a7-5cd02b9f6487"
      },
      "execution_count": 19,
      "outputs": [
        {
          "output_type": "stream",
          "name": "stdout",
          "text": [
            "result0 [2088    0]\n",
            "result1 [ -798 -1182]\n",
            "result0 [4680    0]\n",
            "result1 [-1779 -2631]\n",
            "[[ 1290  2901]\n",
            " [-1182 -2631]]\n"
          ]
        }
      ]
    },
    {
      "cell_type": "code",
      "source": [
        "pos_val0-neg_val0"
      ],
      "metadata": {
        "colab": {
          "base_uri": "https://localhost:8080/"
        },
        "id": "ZllToeKC4guI",
        "outputId": "79356a4d-0690-421f-e48c-453270e1d946"
      },
      "execution_count": 20,
      "outputs": [
        {
          "output_type": "execute_result",
          "data": {
            "text/plain": [
              "array([[2778, 6189],\n",
              "       [ 426,  957]])"
            ]
          },
          "metadata": {},
          "execution_count": 20
        }
      ]
    }
  ]
}