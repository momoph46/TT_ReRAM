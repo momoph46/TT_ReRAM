{
  "nbformat": 4,
  "nbformat_minor": 0,
  "metadata": {
    "colab": {
      "provenance": []
    },
    "kernelspec": {
      "name": "python3",
      "display_name": "Python 3"
    },
    "language_info": {
      "name": "python"
    }
  },
  "cells": [
    {
      "cell_type": "code",
      "execution_count": null,
      "metadata": {
        "id": "L2olQSVFHi5v",
        "colab": {
          "base_uri": "https://localhost:8080/"
        },
        "outputId": "f6debd45-c9fd-4411-de6d-57563aa46738"
      },
      "outputs": [
        {
          "output_type": "stream",
          "name": "stdout",
          "text": [
            "[[ 1  3  5]\n",
            " [ 7  9 11]\n",
            " [13 15 17]]\n"
          ]
        }
      ],
      "source": [
        "import numpy as np\n",
        "\n",
        "a = np.array([[[1,7,13],[3,9,15],[5,11,17]],[[2,8,14],[4,10,16],[6,12,18]]])\n",
        "a_tr = a[0,:].transpose()\n",
        "#print(a_tr.reshape(3,-1))\n",
        "v3_input = a_tr.reshape(3,-1)\n",
        "\n",
        "print(v3_input)\n",
        "#while(1):\n"
      ]
    },
    {
      "cell_type": "code",
      "source": [
        "def fourDTCto2D(g3_arr):\n",
        "  #print(g3_arr)\n",
        "  arr_shape = g3_arr.shape\n",
        "  init_rflag=1\n",
        "  for r_data in g3_arr:\n",
        "    init_cflag=1\n",
        "    for c_data in r_data:\n",
        "      if(init_cflag):\n",
        "        mat2d=c_data\n",
        "        init_cflag=0\n",
        "      else:\n",
        "        mat2d = np.concatenate((mat2d,c_data),axis=1)\n",
        "    if(init_rflag):\n",
        "        total_mat=mat2d\n",
        "        init_rflag=0\n",
        "    else:\n",
        "      total_mat = np.concatenate((total_mat,mat2d),axis=0)\n",
        "\n",
        "  return total_mat\n",
        "\n",
        "g3_arr = np.array([[[[1],[0],[-1]],[[2],[0],[-2]],[[3],[0],[-3]]],[[[4],[0],[-4]],[[5],[0],[-5]],[[6],[0],[-6]]]])\n",
        "print(g3_arr.shape)\n",
        "g2_arr = np.array([[[[1,2,3],[0,1,-4],[-1,-2,0]],[[4,5,6],[7,-1,0],[-2,0,0]],[[7,8,9],[-2,-1,-3],[0,2,0]]]])\n",
        "print(g2_arr.shape)\n",
        "\n",
        "g3_2d=fourDTCto2D(g3_arr)\n",
        "print(g3_2d)\n",
        "g2_2d=fourDTCto2D(g2_arr)\n",
        "print(g2_2d)\n"
      ],
      "metadata": {
        "colab": {
          "base_uri": "https://localhost:8080/"
        },
        "id": "GCVxbQXzkTIs",
        "outputId": "01c83985-23c8-43bf-ff38-5318e56f838a"
      },
      "execution_count": null,
      "outputs": [
        {
          "output_type": "stream",
          "name": "stdout",
          "text": [
            "(2, 3, 3, 1)\n",
            "(1, 3, 3, 3)\n",
            "[[ 1  2  3]\n",
            " [ 0  0  0]\n",
            " [-1 -2 -3]\n",
            " [ 4  5  6]\n",
            " [ 0  0  0]\n",
            " [-4 -5 -6]]\n",
            "[[ 1  2  3  4  5  6  7  8  9]\n",
            " [ 0  1 -4  7 -1  0 -2 -1 -3]\n",
            " [-1 -2  0 -2  0  0  0  2  0]]\n"
          ]
        }
      ]
    },
    {
      "cell_type": "code",
      "source": [
        "def transform(arr,m_list,n_list,h,r):\n",
        "  arr_tr = np.transpose(arr)\n",
        "  #print(arr_tr)\n",
        "  arr_re = arr_tr.reshape(n_list[h-1],-1)\n",
        "  new_arr_width = len(arr_re[0])\n",
        "  #print(new_arr_width)\n",
        "  new_arr=[]\n",
        "  #print(arr_re)\n",
        "  #print(arr_re[:,0:4])\n",
        "  #r = 3\n",
        "  p = new_arr_width\n",
        "  for i in range(0,p,r):\n",
        "    temp = arr_re[:,i:i+r]\n",
        "    new_arr.append(temp.reshape(-1))\n",
        "\n",
        "  return np.transpose(new_arr)"
      ],
      "metadata": {
        "id": "WNPceu8XlM3b"
      },
      "execution_count": null,
      "outputs": []
    },
    {
      "cell_type": "code",
      "source": [
        "g1_arr=np.array([[[[2,1,-1]],[[3,4,-3]]],[[[-2,-1,-1]],[[0,0,-1]]]])\n",
        "print(g1_arr.shape)\n",
        "g1_2d=fourDTCto2D(g1_arr)\n",
        "print(g1_2d)"
      ],
      "metadata": {
        "colab": {
          "base_uri": "https://localhost:8080/"
        },
        "id": "1_btx8S01c-9",
        "outputId": "37323ae5-0093-4260-a233-3d2da2b65d1f"
      },
      "execution_count": null,
      "outputs": [
        {
          "output_type": "stream",
          "name": "stdout",
          "text": [
            "(2, 2, 1, 3)\n",
            "[[ 2  1 -1  3  4 -3]\n",
            " [-2 -1 -1  0  0 -1]]\n"
          ]
        }
      ]
    },
    {
      "cell_type": "code",
      "source": [
        "print(np.matmul(g1_2d[:,0:0+1*3],[[-396]\n",
        " ,[ 756]\n",
        " ,[-186]]))\n",
        "\n",
        "print(np.matmul(g1_2d[:,3:3+1*3],[[-432]\n",
        " ,[ 828]\n",
        " ,[-204]]))\n",
        "\n",
        "print(np.matmul(g1_2d[:,0:0+1*3],[[-882],\n",
        " [1674],\n",
        " [-411]]))\n",
        "\n",
        "print(np.matmul(g1_2d[:,3:3+1*3],[[-972]\n",
        " ,[1854]\n",
        " ,[-456]]))"
      ],
      "metadata": {
        "colab": {
          "base_uri": "https://localhost:8080/"
        },
        "id": "tWU2-A-G7k06",
        "outputId": "680770c4-2f95-4ffd-fcff-9e7a435463c5"
      },
      "execution_count": null,
      "outputs": [
        {
          "output_type": "stream",
          "name": "stdout",
          "text": [
            "[[150]\n",
            " [222]]\n",
            "[[2628]\n",
            " [ 204]]\n",
            "[[321]\n",
            " [501]]\n",
            "[[5868]\n",
            " [ 456]]\n"
          ]
        }
      ]
    },
    {
      "cell_type": "code",
      "source": [
        "'''\n",
        "b50=[]\n",
        "a = np.matmul(g1_2d[:,0:0+1*3],[[-396]\n",
        " ,[ 756]\n",
        " ,[-186]])\n",
        "b = np.matmul(g1_2d[:,3:3+1*3],[[-432]\n",
        " ,[ 828]\n",
        " ,[-204]])\n",
        "c = np.matmul(g1_2d[:,0:0+1*3],[[-882],\n",
        " [1674],\n",
        " [-411]])\n",
        "d = np.matmul(g1_2d[:,3:3+1*3],[[-972]\n",
        " ,[1854]\n",
        " ,[-456]])\n",
        "'''"
      ],
      "metadata": {
        "id": "_MhXkLTBJhHd"
      },
      "execution_count": null,
      "outputs": []
    },
    {
      "cell_type": "code",
      "source": [
        "m_list=[2,1,2]\n",
        "n_list=[2,3,3]\n",
        "r = 3\n",
        "\n",
        "s = 3\n",
        "#r0 = np.matmul(g3_2d[s:s+r],v3_input)\n",
        "#print(r0)\n",
        "#v2_input = transform(r0,m_list,n_list,2,r)\n",
        "#print(v2_input)\n",
        "\n",
        "cycle=0\n",
        "slice_point=0\n",
        "slice_range=1\n",
        "#- Set some hardware configuration\n",
        "cycle=0\n",
        "final_flag=0\n",
        "TC_finish=[0,0,0]\n",
        "input_i=0\n",
        "g3_start=0\n",
        "f_tc_cnt=0\n",
        "\n",
        "v3_input=[]\n",
        "buf_3to2=[[],[]]\n",
        "buf_2to1=[[],[]]\n",
        "accu_buf=[]\n",
        "\n",
        "r1=[]\n",
        "r2=[]\n",
        "r3=[]\n",
        "\n",
        "while(1):\n",
        "  cycle=cycle+1\n",
        "  print('--------------------------')\n",
        "  if(final_flag or cycle >= 10):\n",
        "    print('TOTAL CYCLE: ',cycle-1)\n",
        "    break\n",
        "\n",
        "  #----stage3(LAST)--Tensor_Core1--process-----START\n",
        "  if(slice_point==g1_2d.shape[1]):\n",
        "    slice_point=0\n",
        "    final_acc = np.array(accu_buf)\n",
        "    # Final Accumulation in Buffer RRAM\n",
        "    print('******',np.sum(final_acc,axis=0))\n",
        "    accu_buf=[]\n",
        "    if(f_tc_cnt == n_list[0]-1):\n",
        "      TC_finish[2]=1\n",
        "    else:\n",
        "      f_tc_cnt=f_tc_cnt+1\n",
        "\n",
        "  if len(buf_2to1[0]):\n",
        "    r1 = np.matmul(g1_2d[:,slice_point:slice_point+slice_range*r],buf_2to1[0])\n",
        "    print(r1,'from buf_2to1[0]')\n",
        "    print(cycle,'from buf_2to1[0]')\n",
        "    buf_2to1[0]=[]\n",
        "    slice_point = slice_point+slice_range*r\n",
        "    accu_buf.append(r1)\n",
        "\n",
        "  if len(buf_2to1[1]):\n",
        "    r1 = np.matmul(g1_2d[:,slice_point:slice_point+slice_range*r],buf_2to1[0])\n",
        "    print(r1,'from buf_2to1[0]')\n",
        "    print(cycle,'from buf_2to1[0]')\n",
        "    buf_2to1[1]=[]\n",
        "    slice_point = slice_point+slice_range*r\n",
        "    accu_buf.append(r1)\n",
        "\n",
        "  #----stage3(LAST)--Tensor_Core1--process-----END\n",
        "  # accumulate buffer\n",
        "\n",
        "\n",
        "  #----stage2--Tensor_Core2--process-----START\n",
        "  if len(buf_3to2[0]):\n",
        "    r2 = np.matmul(g2_2d,buf_3to2[0])\n",
        "    print(r2,'from buf_3to2[0]')\n",
        "    print(cycle)\n",
        "    buf_3to2[0]=[]\n",
        "\n",
        "  if len(buf_3to2[1]):\n",
        "    r2 = np.matmul(g3_2d,buf_3to2[1])\n",
        "    print(r2,'from buf_3to2[1]')\n",
        "    print(cycle)\n",
        "    buf_3to2[1]=[]\n",
        "\n",
        "\n",
        "  if len(buf_2to1[0])==0 and len(r2):\n",
        "    buf_2to1[0] = transform(r2,m_list,[1,3,3],1,r)\n",
        "    r2=[]\n",
        "\n",
        "  elif len(buf_2to1[1])==0 and len(r2):\n",
        "    buf_2to1[1] = transform(r2,m_list,[1,3,3],1,r)\n",
        "    r2=[]\n",
        "  else:\n",
        "    print('TensorCore2 END')\n",
        "    TC_finish[1]=1\n",
        "    #break\n",
        "  #----stage2--Tensor_Core2--process-----END\n",
        "\n",
        "\n",
        "\n",
        "  #----stage1--Tensor_Core3--process-----START\n",
        "  #----get initial input-------\n",
        "  if(g3_start < g3_2d.shape[0]):\n",
        "    a = np.array([[[1,7,13],[3,9,15],[5,11,17]],[[2,8,14],[4,10,16],[6,12,18]]])\n",
        "    a_tr = a[input_i,:].transpose()\n",
        "    v3_input = a_tr.reshape(3,-1)\n",
        "    #print(v3_input)\n",
        "\n",
        "\n",
        "\n",
        "  #print(g3_2d[g3_start:g3_start+r])\n",
        "  if len(v3_input):\n",
        "    r3 = np.matmul(g3_2d[g3_start:g3_start+r],v3_input)\n",
        "    #print('1111111',r3)\n",
        "    v3_input=[]\n",
        "\n",
        "  #print(r3)\n",
        "  #v2_input = transform(r3,m_list,n_list,2,r)\n",
        "  #if not(buf_3to2[0]):\n",
        "  if len(buf_3to2[0])==0 and len(r3):\n",
        "    buf_3to2[0] = transform(r3,m_list,n_list,2,r)\n",
        "    #print('0000000',r3)\n",
        "    r3=[]\n",
        "\n",
        "  elif len(buf_3to2[1])==0 and len(r3):\n",
        "    buf_3to2[1] = transform(r3,m_list,n_list,2,r)\n",
        "    #print('00000000',r3)\n",
        "    r3=[]\n",
        "  else:\n",
        "    print('TensorCore3 END')\n",
        "    TC_finish[0]=1\n",
        "    #break\n",
        "\n",
        "  #----stage1--Tensor_Core3--process-----END\n",
        "\n",
        "  #----choose input slice--------start\n",
        "  if (input_i < n_list[0]-1):\n",
        "    input_i = input_i + 1\n",
        "  else:\n",
        "    input_i = 0\n",
        "    g3_start = g3_start + r\n",
        "\n",
        "  #----choose input slice--------end\n",
        "\n",
        "  if(TC_finish[0] and TC_finish[1] and TC_finish[2]):\n",
        "    print('ALL finish')\n",
        "    final_flag=1\n",
        "\n",
        "\n"
      ],
      "metadata": {
        "colab": {
          "base_uri": "https://localhost:8080/"
        },
        "id": "CiW9-ICPh9vb",
        "outputId": "971e95d6-2bb2-4041-81c0-b60c94b84b4e"
      },
      "execution_count": null,
      "outputs": [
        {
          "output_type": "stream",
          "name": "stdout",
          "text": [
            "--------------------------\n",
            "TensorCore2 END\n",
            "--------------------------\n",
            "[[-396]\n",
            " [ 756]\n",
            " [-186]] from buf_3to2[0]\n",
            "2\n",
            "--------------------------\n",
            "[[150]\n",
            " [222]] from buf_2to1[0]\n",
            "3 from buf_2to1[0]\n",
            "[[-432]\n",
            " [ 828]\n",
            " [-204]] from buf_3to2[0]\n",
            "3\n",
            "--------------------------\n",
            "[[2628]\n",
            " [ 204]] from buf_2to1[0]\n",
            "4 from buf_2to1[0]\n",
            "[[-882]\n",
            " [1674]\n",
            " [-411]] from buf_3to2[0]\n",
            "4\n",
            "--------------------------\n",
            "****** [[2778]\n",
            " [ 426]]\n",
            "[[321]\n",
            " [501]] from buf_2to1[0]\n",
            "5 from buf_2to1[0]\n",
            "[[-972]\n",
            " [1854]\n",
            " [-456]] from buf_3to2[0]\n",
            "5\n",
            "TensorCore3 END\n",
            "--------------------------\n",
            "[[5868]\n",
            " [ 456]] from buf_2to1[0]\n",
            "6 from buf_2to1[0]\n",
            "TensorCore2 END\n",
            "TensorCore3 END\n",
            "--------------------------\n",
            "****** [[6189]\n",
            " [ 957]]\n",
            "TensorCore2 END\n",
            "TensorCore3 END\n",
            "ALL finish\n",
            "--------------------------\n",
            "TOTAL CYCLE:  7\n"
          ]
        }
      ]
    }
  ]
}